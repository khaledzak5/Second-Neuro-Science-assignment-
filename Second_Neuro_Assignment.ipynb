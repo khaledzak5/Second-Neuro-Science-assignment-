{
  "nbformat": 4,
  "nbformat_minor": 0,
  "metadata": {
    "colab": {
      "provenance": []
    },
    "kernelspec": {
      "name": "python3",
      "display_name": "Python 3"
    },
    "language_info": {
      "name": "python"
    }
  },
  "cells": [
    {
      "cell_type": "code",
      "source": [
        "\n",
        "import torch\n",
        "import torch.nn as nn\n",
        "\n",
        "class SecondAssignment(nn.Module):\n",
        "    def __init__(self):\n",
        "        super().__init__()\n",
        "        self.hidden_layer = nn.Linear(2, 2)\n",
        "        self.output_layer = nn.Linear(2, 2)\n",
        "        self._initialize_weights()\n",
        "\n",
        "    def _initialize_weights(self):\n",
        "        with torch.no_grad():\n",
        "            self.hidden_layer.weight.copy_(torch.tensor([[0.15, 0.20], [0.25, 0.30]]))\n",
        "            self.hidden_layer.bias.copy_(torch.tensor([0.35, 0.35]))\n",
        "            self.output_layer.weight.copy_(torch.tensor([[0.40, 0.45], [0.50, 0.55]]))\n",
        "            self.output_layer.bias.copy_(torch.tensor([0.60, 0.60]))\n",
        "\n",
        "    def forward(self, x):\n",
        "        self.hidden_input = self.hidden_layer(x)\n",
        "        self.hidden_output = torch.sigmoid(self.hidden_input)\n",
        "        self.final_input = self.output_layer(self.hidden_output)\n",
        "        self.final_output = torch.sigmoid(self.final_input)\n",
        "        return self.final_output\n",
        "\n",
        "model = SecondAssignment()\n",
        "input_tensor = torch.tensor([0.05, 0.10])\n",
        "target = torch.tensor([0.01, 0.99])\n",
        "output = model(input_tensor)\n",
        "loss = 0.5 * torch.sum((target - output) ** 2)\n",
        "print(loss.item())\n",
        "\n",
        "learning_rate = 0.5\n",
        "delta_output = (output - target) * (output * (1 - output))\n",
        "\n",
        "with torch.no_grad():\n",
        "    for i in range(2):\n",
        "        for j in range(2):\n",
        "            model.output_layer.weight[i][j] -= learning_rate * delta_output[i] * model.hidden_output[j]\n",
        "        model.output_layer.bias[i] -= learning_rate * delta_output[i]\n",
        "\n",
        "delta_hidden = torch.zeros(2)\n",
        "for i in range(2):\n",
        "    delta_hidden[i] = (delta_output[0] * model.output_layer.weight[0][i] +\n",
        "                       delta_output[1] * model.output_layer.weight[1][i]) * (model.hidden_output[i] * (1 - model.hidden_output[i]))\n",
        "\n",
        "with torch.no_grad():\n",
        "    for i in range(2):\n",
        "        for j in range(2):\n",
        "            model.hidden_layer.weight[i][j] -= learning_rate * delta_hidden[i] * input_tensor[j]\n",
        "        model.hidden_layer.bias[i] -= learning_rate * delta_hidden[i]\n",
        "\n",
        "print(model.hidden_layer.weight)\n",
        "print(model.hidden_layer.bias)\n",
        "print(model.output_layer.weight)\n",
        "print(model.output_layer.bias)\n"
      ],
      "metadata": {
        "colab": {
          "base_uri": "https://localhost:8080/"
        },
        "id": "OTnGlA3CdTms",
        "outputId": "21957962-e067-49fc-cd5c-6b381b9aa348"
      },
      "execution_count": 6,
      "outputs": [
        {
          "output_type": "stream",
          "name": "stdout",
          "text": [
            "0.2983711063861847\n",
            "Parameter containing:\n",
            "tensor([[0.1498, 0.1996],\n",
            "        [0.2498, 0.2996]], requires_grad=True)\n",
            "Parameter containing:\n",
            "tensor([0.3464, 0.3458], requires_grad=True)\n",
            "Parameter containing:\n",
            "tensor([[0.3589, 0.4087],\n",
            "        [0.5113, 0.5614]], requires_grad=True)\n",
            "Parameter containing:\n",
            "tensor([0.5308, 0.6190], requires_grad=True)\n"
          ]
        }
      ]
    }
  ]
}